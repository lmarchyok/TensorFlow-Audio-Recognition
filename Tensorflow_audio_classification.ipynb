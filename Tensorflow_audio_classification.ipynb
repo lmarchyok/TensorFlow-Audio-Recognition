{
  "nbformat": 4,
  "nbformat_minor": 0,
  "metadata": {
    "colab": {
      "provenance": [],
      "include_colab_link": true
    },
    "kernelspec": {
      "name": "python3",
      "display_name": "Python 3"
    },
    "language_info": {
      "name": "python"
    }
  },
  "cells": [
    {
      "cell_type": "markdown",
      "metadata": {
        "id": "view-in-github",
        "colab_type": "text"
      },
      "source": [
        "<a href=\"https://colab.research.google.com/github/lmarchyok/TensorFlow-Audio-Recognition/blob/main/Tensorflow_audio_classification.ipynb\" target=\"_parent\"><img src=\"https://colab.research.google.com/assets/colab-badge.svg\" alt=\"Open In Colab\"/></a>"
      ]
    },
    {
      "cell_type": "code",
      "source": [
        "import zipfile\n",
        "\n",
        "TARGET = \"data/\"\n",
        "\n",
        "DATAPATH = \"data/CREMA-D-master.zip\" \n",
        "\n",
        "with zipfile.ZipFile(DATAPATH, 'r') as zip:\n",
        "  zip.extractall(TARGET)"
      ],
      "metadata": {
        "id": "0obaR2BPA0RA"
      },
      "execution_count": null,
      "outputs": []
    },
    {
      "cell_type": "code",
      "source": [
        "'''\n",
        "Target Directory Structure:\n",
        "\n",
        "sorted_dir/\n",
        "  class A/\n",
        "    example.wav\n",
        "    example.wav\n",
        "  class B/\n",
        "    example.wav\n",
        "    example.wav\n",
        "    .\n",
        "    .\n",
        "    .\n",
        "'''\n",
        "import os\n",
        "import pathlib\n",
        "import pandas as pd\n",
        "from pandas.core.generic import Axis\n",
        "\n",
        "data = pd.read_csv(\"data/CREMA-D-master/processedResults/summaryTable.csv\")\n",
        "\n",
        "# trim MultiModalVote to single class\n",
        "\n",
        "\n",
        "for i in range(len(data['MultiModalVote'])):\n",
        "  data['MultiModalVote'][i] = data['MultiModalVote'][i][0]\n",
        "\n",
        "\n",
        "# get a list of classes\n",
        "\n",
        "\n",
        "def mk_class_folders():\n",
        "\n",
        "  classes = []\n",
        "\n",
        "  for class_ in data['MultiModalVote']:\n",
        "    if class_ in classes:\n",
        "      continue\n",
        "    else:\n",
        "      classes.append(class_)\n",
        "      os.mkdir(f\"data/{class_}\")\n",
        "\n",
        "\n",
        "# move wav files to class directories\n",
        "\n",
        "\n",
        "wav_dir = \"data/CREMA-D-master/AudioWAV\"\n",
        "\n",
        "def mv_wav_files():\n",
        "  data.set_axis([data['MultiModalVote']], axis='index') \n",
        "  for file in os.scandir(wav_dir):\n",
        "    class_ = data.at['MultiModalVote']\n",
        "    os.rename(file, f\"data/Test Data/{class_}/{file}\")\n",
        "\n",
        "\n",
        "#mv_wav_files()\n",
        "\n",
        "\n",
        "for i in os.scandir(wav_dir):\n",
        "  print(i)"
      ],
      "metadata": {
        "id": "brmajAyrCQaO"
      },
      "execution_count": null,
      "outputs": []
    },
    {
      "cell_type": "code",
      "source": [
        "import os\n",
        "import pathlib\n",
        "\n",
        "import pandas as pd\n",
        "import matplotlib.pyplot as plt\n",
        "import numpy as np\n",
        "import seaborn as sns\n",
        "import tensorflow as tf\n",
        "from tensorflow import keras\n",
        "\n",
        "from keras import layers\n",
        "from keras import models\n",
        "from IPython import display\n",
        "\n",
        "# Set the seed value for experiment reproducibility.\n",
        "seed = 42\n",
        "tf.random.set_seed(seed)\n",
        "np.random.seed(seed)\n",
        "\n",
        "data_dir = \"data/CREMA-D-master\"\n",
        "\n",
        "labels_dir = \"data/CREMA-D-master/processedResults/summaryTable.csv\"\n",
        "\n",
        "wav_files = \"\"\n",
        "\n",
        "\n",
        "\n",
        "\n"
      ],
      "metadata": {
        "id": "_2ry6N7tLTY7"
      },
      "execution_count": null,
      "outputs": []
    }
  ]
}